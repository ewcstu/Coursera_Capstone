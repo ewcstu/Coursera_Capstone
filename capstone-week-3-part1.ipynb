{
 "cells": [
  {
   "cell_type": "markdown",
   "metadata": {},
   "source": [
    "# Coursera Capstone\n",
    "## Week 3 Assignment"
   ]
  },
  {
   "cell_type": "code",
   "execution_count": 93,
   "metadata": {},
   "outputs": [],
   "source": [
    "# imports\n",
    "import pandas as pd\n",
    "import numpy as np\n",
    "import requests\n",
    "from bs4 import BeautifulSoup"
   ]
  },
  {
   "cell_type": "markdown",
   "metadata": {},
   "source": [
    "1. Using the postal code list from this page:\n",
    "https://en.wikipedia.org/wiki/List_of_postal_codes_of_Canada:_M, \n",
    "reading the website, then loading for beautifulsoup to parse"
   ]
  },
  {
   "cell_type": "code",
   "execution_count": 134,
   "metadata": {},
   "outputs": [],
   "source": [
    "url =  'https://en.wikipedia.org/wiki/List_of_postal_codes_of_Canada:_M'\n",
    "\n",
    "page = requests.get(url).text\n",
    "soup = BeautifulSoup(page,'xml')"
   ]
  },
  {
   "cell_type": "markdown",
   "metadata": {},
   "source": [
    "2. Using beautifulsoup, extract the cells we want - all rows where the Borough is not assigned - and for rows when the Neighborhood is not assigned, giving it the Borough name. Then loading into a pandas dataframe"
   ]
  },
  {
   "cell_type": "code",
   "execution_count": 138,
   "metadata": {},
   "outputs": [],
   "source": [
    "table = soup.find('table')\n",
    "table_rows = table.find_all('tr')\n",
    "rows = []\n",
    "for tr in table_rows:\n",
    "    r = tr.find_all('td')\n",
    "    if r:\n",
    "        rows.append(r)\n",
    "        \n",
    "data = []\n",
    "for row in rows:\n",
    "    a = row[0].text.strip()\n",
    "    b = row[1].text.strip()\n",
    "    c = row[2].text.strip()\n",
    "    if b != 'Not assigned':\n",
    "        if c == 'Not assigned':\n",
    "            c = b\n",
    "        data.append([a, b, c])\n",
    "\n",
    "df = pd.DataFrame(data,columns=['PostalCode','Borough','Neighborhood'])\n",
    "#df.head()"
   ]
  },
  {
   "cell_type": "markdown",
   "metadata": {},
   "source": [
    "3. Now we have a row for every Neighborhood, but we want to use groupby so that each postal code only has one row."
   ]
  },
  {
   "cell_type": "code",
   "execution_count": 141,
   "metadata": {},
   "outputs": [],
   "source": [
    "df_2 = df.groupby(by = ['PostalCode','Borough']).agg(lambda x: ','.join(x))\n",
    "df2 = df_2.reset_index(level=['PostalCode','Borough'], inplace=True)\n",
    "#df_2.head()"
   ]
  },
  {
   "cell_type": "markdown",
   "metadata": {},
   "source": [
    "4. Using the .shape method to show the # of rows in the dataframe (103 rows):"
   ]
  },
  {
   "cell_type": "code",
   "execution_count": 144,
   "metadata": {},
   "outputs": [
    {
     "name": "stdout",
     "output_type": "stream",
     "text": [
      "(103, 3)\n"
     ]
    }
   ],
   "source": [
    "print(df_2.shape)"
   ]
  }
 ],
 "metadata": {
  "kernelspec": {
   "display_name": "Python 3",
   "language": "python",
   "name": "python3"
  },
  "language_info": {
   "codemirror_mode": {
    "name": "ipython",
    "version": 3
   },
   "file_extension": ".py",
   "mimetype": "text/x-python",
   "name": "python",
   "nbconvert_exporter": "python",
   "pygments_lexer": "ipython3",
   "version": "3.7.3"
  }
 },
 "nbformat": 4,
 "nbformat_minor": 2
}
